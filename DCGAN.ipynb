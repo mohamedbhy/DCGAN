{
  "nbformat": 4,
  "nbformat_minor": 0,
  "metadata": {
    "colab": {
      "name": "DCGAN.ipynb",
      "version": "0.3.2",
      "provenance": [],
      "collapsed_sections": [],
      "toc_visible": true
    },
    "kernelspec": {
      "name": "python3",
      "display_name": "Python 3"
    },
    "accelerator": "GPU"
  },
  "cells": [
    {
      "cell_type": "markdown",
      "metadata": {
        "id": "6BlhRQiq3ENI",
        "colab_type": "text"
      },
      "source": [
        "# Face Generation Using DCGAN (Deep Convolutional Generative Adversarial Network)"
      ]
    },
    {
      "cell_type": "markdown",
      "metadata": {
        "id": "Hl9E7oK2-o6h",
        "colab_type": "text"
      },
      "source": [
        "![Texte alternatif…](https://cdn-images-1.medium.com/max/1600/1*Mw2c3eY5khtXafe5W-Ms_w.jpeg)"
      ]
    },
    {
      "cell_type": "markdown",
      "metadata": {
        "id": "wmx3H59H4K3W",
        "colab_type": "text"
      },
      "source": [
        "## Installing Dependencies"
      ]
    },
    {
      "cell_type": "code",
      "metadata": {
        "id": "5ndVQaMHITxm",
        "colab_type": "code",
        "outputId": "16ef00b7-8ce3-4803-d534-897e1e706ba9",
        "colab": {
          "base_uri": "https://localhost:8080/",
          "height": 1193
        }
      },
      "source": [
        "!pip install tensorflow==2.0.0-alpha0 #you can install tensorflow-gpu for gpu accelaration by using the command !pip install -q tensorflow-gpu==2.0.0-alpha0\n",
        "!pip install PyDrive\n",
        "!pip install numpy\n",
        "!pip install matplotlib\n",
        "!pip install scikitlearn\n",
        "!pip install pillow"
      ],
      "execution_count": 1,
      "outputs": [
        {
          "output_type": "stream",
          "text": [
            "Collecting tensorflow-gpu==2.0.0-alpha0\n",
            "\u001b[?25l  Downloading https://files.pythonhosted.org/packages/1a/66/32cffad095253219d53f6b6c2a436637bbe45ac4e7be0244557210dc3918/tensorflow_gpu-2.0.0a0-cp36-cp36m-manylinux1_x86_64.whl (332.1MB)\n",
            "\u001b[K     |████████████████████████████████| 332.1MB 61kB/s \n",
            "\u001b[?25hRequirement already satisfied: six>=1.10.0 in /usr/local/lib/python3.6/dist-packages (from tensorflow-gpu==2.0.0-alpha0) (1.12.0)\n",
            "Requirement already satisfied: protobuf>=3.6.1 in /usr/local/lib/python3.6/dist-packages (from tensorflow-gpu==2.0.0-alpha0) (3.7.1)\n",
            "Requirement already satisfied: grpcio>=1.8.6 in /usr/local/lib/python3.6/dist-packages (from tensorflow-gpu==2.0.0-alpha0) (1.15.0)\n",
            "Requirement already satisfied: wheel>=0.26 in /usr/local/lib/python3.6/dist-packages (from tensorflow-gpu==2.0.0-alpha0) (0.33.4)\n",
            "Collecting google-pasta>=0.1.2 (from tensorflow-gpu==2.0.0-alpha0)\n",
            "\u001b[?25l  Downloading https://files.pythonhosted.org/packages/f9/68/a14620bfb042691f532dcde8576ff82ee82e4c003cdc0a3dbee5f289cee6/google_pasta-0.1.6-py3-none-any.whl (51kB)\n",
            "\u001b[K     |████████████████████████████████| 61kB 20.4MB/s \n",
            "\u001b[?25hRequirement already satisfied: keras-applications>=1.0.6 in /usr/local/lib/python3.6/dist-packages (from tensorflow-gpu==2.0.0-alpha0) (1.0.7)\n",
            "Requirement already satisfied: gast>=0.2.0 in /usr/local/lib/python3.6/dist-packages (from tensorflow-gpu==2.0.0-alpha0) (0.2.2)\n",
            "Requirement already satisfied: keras-preprocessing>=1.0.5 in /usr/local/lib/python3.6/dist-packages (from tensorflow-gpu==2.0.0-alpha0) (1.0.9)\n",
            "Collecting tf-estimator-nightly<1.14.0.dev2019030116,>=1.14.0.dev2019030115 (from tensorflow-gpu==2.0.0-alpha0)\n",
            "\u001b[?25l  Downloading https://files.pythonhosted.org/packages/13/82/f16063b4eed210dc2ab057930ac1da4fbe1e91b7b051a6c8370b401e6ae7/tf_estimator_nightly-1.14.0.dev2019030115-py2.py3-none-any.whl (411kB)\n",
            "\u001b[K     |████████████████████████████████| 419kB 34.8MB/s \n",
            "\u001b[?25hRequirement already satisfied: astor>=0.6.0 in /usr/local/lib/python3.6/dist-packages (from tensorflow-gpu==2.0.0-alpha0) (0.7.1)\n",
            "Requirement already satisfied: absl-py>=0.7.0 in /usr/local/lib/python3.6/dist-packages (from tensorflow-gpu==2.0.0-alpha0) (0.7.1)\n",
            "Requirement already satisfied: termcolor>=1.1.0 in /usr/local/lib/python3.6/dist-packages (from tensorflow-gpu==2.0.0-alpha0) (1.1.0)\n",
            "Collecting tb-nightly<1.14.0a20190302,>=1.14.0a20190301 (from tensorflow-gpu==2.0.0-alpha0)\n",
            "\u001b[?25l  Downloading https://files.pythonhosted.org/packages/a9/51/aa1d756644bf4624c03844115e4ac4058eff77acd786b26315f051a4b195/tb_nightly-1.14.0a20190301-py3-none-any.whl (3.0MB)\n",
            "\u001b[K     |████████████████████████████████| 3.0MB 29.8MB/s \n",
            "\u001b[?25hRequirement already satisfied: numpy<2.0,>=1.14.5 in /usr/local/lib/python3.6/dist-packages (from tensorflow-gpu==2.0.0-alpha0) (1.16.3)\n",
            "Requirement already satisfied: setuptools in /usr/local/lib/python3.6/dist-packages (from protobuf>=3.6.1->tensorflow-gpu==2.0.0-alpha0) (41.0.1)\n",
            "Requirement already satisfied: h5py in /usr/local/lib/python3.6/dist-packages (from keras-applications>=1.0.6->tensorflow-gpu==2.0.0-alpha0) (2.8.0)\n",
            "Requirement already satisfied: werkzeug>=0.11.15 in /usr/local/lib/python3.6/dist-packages (from tb-nightly<1.14.0a20190302,>=1.14.0a20190301->tensorflow-gpu==2.0.0-alpha0) (0.15.3)\n",
            "Requirement already satisfied: markdown>=2.6.8 in /usr/local/lib/python3.6/dist-packages (from tb-nightly<1.14.0a20190302,>=1.14.0a20190301->tensorflow-gpu==2.0.0-alpha0) (3.1)\n",
            "Installing collected packages: google-pasta, tf-estimator-nightly, tb-nightly, tensorflow-gpu\n",
            "Successfully installed google-pasta-0.1.6 tb-nightly-1.14.0a20190301 tensorflow-gpu-2.0.0a0 tf-estimator-nightly-1.14.0.dev2019030115\n",
            "Collecting PyDrive\n",
            "\u001b[?25l  Downloading https://files.pythonhosted.org/packages/52/e0/0e64788e5dd58ce2d6934549676243dc69d982f198524be9b99e9c2a4fd5/PyDrive-1.3.1.tar.gz (987kB)\n",
            "\u001b[K     |████████████████████████████████| 993kB 7.2MB/s \n",
            "\u001b[?25hRequirement already satisfied: google-api-python-client>=1.2 in /usr/local/lib/python3.6/dist-packages (from PyDrive) (1.6.7)\n",
            "Requirement already satisfied: oauth2client>=4.0.0 in /usr/local/lib/python3.6/dist-packages (from PyDrive) (4.1.3)\n",
            "Requirement already satisfied: PyYAML>=3.0 in /usr/local/lib/python3.6/dist-packages (from PyDrive) (3.13)\n",
            "Requirement already satisfied: six<2dev,>=1.6.1 in /usr/local/lib/python3.6/dist-packages (from google-api-python-client>=1.2->PyDrive) (1.12.0)\n",
            "Requirement already satisfied: uritemplate<4dev,>=3.0.0 in /usr/local/lib/python3.6/dist-packages (from google-api-python-client>=1.2->PyDrive) (3.0.0)\n",
            "Requirement already satisfied: httplib2<1dev,>=0.9.2 in /usr/local/lib/python3.6/dist-packages (from google-api-python-client>=1.2->PyDrive) (0.11.3)\n",
            "Requirement already satisfied: rsa>=3.1.4 in /usr/local/lib/python3.6/dist-packages (from oauth2client>=4.0.0->PyDrive) (4.0)\n",
            "Requirement already satisfied: pyasn1-modules>=0.0.5 in /usr/local/lib/python3.6/dist-packages (from oauth2client>=4.0.0->PyDrive) (0.2.5)\n",
            "Requirement already satisfied: pyasn1>=0.1.7 in /usr/local/lib/python3.6/dist-packages (from oauth2client>=4.0.0->PyDrive) (0.4.5)\n",
            "Building wheels for collected packages: PyDrive\n",
            "  Building wheel for PyDrive (setup.py) ... \u001b[?25l\u001b[?25hdone\n",
            "  Stored in directory: /root/.cache/pip/wheels/fa/d2/9a/d3b6b506c2da98289e5d417215ce34b696db856643bad779f4\n",
            "Successfully built PyDrive\n",
            "Installing collected packages: PyDrive\n",
            "Successfully installed PyDrive-1.3.1\n",
            "Requirement already satisfied: numpy in /usr/local/lib/python3.6/dist-packages (1.16.3)\n",
            "Requirement already satisfied: matplotlib in /usr/local/lib/python3.6/dist-packages (3.0.3)\n",
            "Requirement already satisfied: pyparsing!=2.0.4,!=2.1.2,!=2.1.6,>=2.0.1 in /usr/local/lib/python3.6/dist-packages (from matplotlib) (2.4.0)\n",
            "Requirement already satisfied: numpy>=1.10.0 in /usr/local/lib/python3.6/dist-packages (from matplotlib) (1.16.3)\n",
            "Requirement already satisfied: cycler>=0.10 in /usr/local/lib/python3.6/dist-packages (from matplotlib) (0.10.0)\n",
            "Requirement already satisfied: kiwisolver>=1.0.1 in /usr/local/lib/python3.6/dist-packages (from matplotlib) (1.1.0)\n",
            "Requirement already satisfied: python-dateutil>=2.1 in /usr/local/lib/python3.6/dist-packages (from matplotlib) (2.5.3)\n",
            "Requirement already satisfied: six in /usr/local/lib/python3.6/dist-packages (from cycler>=0.10->matplotlib) (1.12.0)\n",
            "Requirement already satisfied: setuptools in /usr/local/lib/python3.6/dist-packages (from kiwisolver>=1.0.1->matplotlib) (41.0.1)\n",
            "Collecting scikitlearn\n",
            "  Downloading https://files.pythonhosted.org/packages/93/ed/7d44870856661aa0827229a18d08d09f2aac50a7225193a240773bad98a7/scikitlearn-0.1.1.tar.gz\n",
            "Building wheels for collected packages: scikitlearn\n",
            "  Building wheel for scikitlearn (setup.py) ... \u001b[?25lerror\n",
            "\u001b[31m  ERROR: Failed building wheel for scikitlearn\u001b[0m\n",
            "\u001b[?25h  Running setup.py clean for scikitlearn\n",
            "Failed to build scikitlearn\n",
            "Installing collected packages: scikitlearn\n",
            "  Running setup.py install for scikitlearn ... \u001b[?25l\u001b[?25herror\n",
            "\u001b[31mERROR: Command \"/usr/bin/python3 -u -c 'import setuptools, tokenize;__file__='\"'\"'/tmp/pip-install-gu1jtgi2/scikitlearn/setup.py'\"'\"';f=getattr(tokenize, '\"'\"'open'\"'\"', open)(__file__);code=f.read().replace('\"'\"'\\r\\n'\"'\"', '\"'\"'\\n'\"'\"');f.close();exec(compile(code, __file__, '\"'\"'exec'\"'\"'))' install --record /tmp/pip-record-hzjff1n7/install-record.txt --single-version-externally-managed --compile\" failed with error code 1 in /tmp/pip-install-gu1jtgi2/scikitlearn/\u001b[0m\n",
            "Requirement already satisfied: pillow in /usr/local/lib/python3.6/dist-packages (4.3.0)\n",
            "Requirement already satisfied: olefile in /usr/local/lib/python3.6/dist-packages (from pillow) (0.46)\n"
          ],
          "name": "stdout"
        }
      ]
    },
    {
      "cell_type": "markdown",
      "metadata": {
        "id": "LkIdm1vg5FxA",
        "colab_type": "text"
      },
      "source": [
        "## Importing the dependencies"
      ]
    },
    {
      "cell_type": "code",
      "metadata": {
        "id": "-ko3_RfzJWuk",
        "colab_type": "code",
        "colab": {}
      },
      "source": [
        "from tensorflow.keras import models,layers,optimizers,losses,initializers\n",
        "from tensorflow import random\n",
        "import tensorflow as tf\n",
        "import os\n",
        "import numpy as np\n",
        "import matplotlib.pyplot as plt\n",
        "import PIL.Image as Image\n",
        "import glob\n",
        "from pydrive.auth import GoogleAuth\n",
        "from pydrive.drive import GoogleDrive\n",
        "from google.colab import auth\n",
        "from oauth2client.client import GoogleCredentials\n",
        "from IPython import display"
      ],
      "execution_count": 0,
      "outputs": []
    },
    {
      "cell_type": "markdown",
      "metadata": {
        "id": "D5pWV-xZ5Wlu",
        "colab_type": "text"
      },
      "source": [
        "**for GPU**\n",
        "### Configuring tensorflow GPU limits"
      ]
    },
    {
      "cell_type": "code",
      "metadata": {
        "id": "dBzOg84egAgd",
        "colab_type": "code",
        "colab": {}
      },
      "source": [
        "tf.config.gpu.set_per_process_memory_fraction(0.75)\n",
        "tf.config.gpu.set_per_process_memory_growth(True)"
      ],
      "execution_count": 0,
      "outputs": []
    },
    {
      "cell_type": "markdown",
      "metadata": {
        "id": "QTtt4O005zL_",
        "colab_type": "text"
      },
      "source": [
        "## DataSet Preprocessing"
      ]
    },
    {
      "cell_type": "markdown",
      "metadata": {
        "id": "C950fHWH54MJ",
        "colab_type": "text"
      },
      "source": [
        "### Authenticating to Google Drive"
      ]
    },
    {
      "cell_type": "code",
      "metadata": {
        "id": "jsj9mBnIJh7h",
        "colab_type": "code",
        "colab": {}
      },
      "source": [
        "auth.authenticate_user()\n",
        "gauth = GoogleAuth()\n",
        "gauth.credentials = GoogleCredentials.get_application_default()\n",
        "drive = GoogleDrive(gauth)"
      ],
      "execution_count": 0,
      "outputs": []
    },
    {
      "cell_type": "markdown",
      "metadata": {
        "id": "RHY3Fr7S6A9H",
        "colab_type": "text"
      },
      "source": [
        "### Pulling Data"
      ]
    },
    {
      "cell_type": "code",
      "metadata": {
        "id": "PkfRsRTjaeAb",
        "colab_type": "code",
        "outputId": "5baeab5c-28e8-481a-f101-728b5df6fc39",
        "colab": {
          "base_uri": "https://localhost:8080/",
          "height": 510
        }
      },
      "source": [
        "file_id = '0BwO0RMrZJCioaW5TdVJtOEtfYUk'\n",
        "downloaded = drive.CreateFile({'id': file_id})\n",
        "downloaded.GetContentFile('images.rar')"
      ],
      "execution_count": 5,
      "outputs": [
        {
          "output_type": "stream",
          "text": [
            "WARNING: Logging before flag parsing goes to stderr.\n",
            "W0518 12:54:41.244749 139922495973248 __init__.py:44] file_cache is unavailable when using oauth2client >= 4.0.0\n",
            "Traceback (most recent call last):\n",
            "  File \"/usr/local/lib/python3.6/dist-packages/googleapiclient/discovery_cache/__init__.py\", line 36, in autodetect\n",
            "    from google.appengine.api import memcache\n",
            "ModuleNotFoundError: No module named 'google.appengine'\n",
            "\n",
            "During handling of the above exception, another exception occurred:\n",
            "\n",
            "Traceback (most recent call last):\n",
            "  File \"/usr/local/lib/python3.6/dist-packages/googleapiclient/discovery_cache/file_cache.py\", line 33, in <module>\n",
            "    from oauth2client.contrib.locked_file import LockedFile\n",
            "ModuleNotFoundError: No module named 'oauth2client.contrib.locked_file'\n",
            "\n",
            "During handling of the above exception, another exception occurred:\n",
            "\n",
            "Traceback (most recent call last):\n",
            "  File \"/usr/local/lib/python3.6/dist-packages/googleapiclient/discovery_cache/file_cache.py\", line 37, in <module>\n",
            "    from oauth2client.locked_file import LockedFile\n",
            "ModuleNotFoundError: No module named 'oauth2client.locked_file'\n",
            "\n",
            "During handling of the above exception, another exception occurred:\n",
            "\n",
            "Traceback (most recent call last):\n",
            "  File \"/usr/local/lib/python3.6/dist-packages/googleapiclient/discovery_cache/__init__.py\", line 41, in autodetect\n",
            "    from . import file_cache\n",
            "  File \"/usr/local/lib/python3.6/dist-packages/googleapiclient/discovery_cache/file_cache.py\", line 41, in <module>\n",
            "    'file_cache is unavailable when using oauth2client >= 4.0.0')\n",
            "ImportError: file_cache is unavailable when using oauth2client >= 4.0.0\n"
          ],
          "name": "stderr"
        }
      ]
    },
    {
      "cell_type": "markdown",
      "metadata": {
        "id": "_khnGWdo6cXu",
        "colab_type": "text"
      },
      "source": [
        "### Extracting Data"
      ]
    },
    {
      "cell_type": "code",
      "metadata": {
        "id": "oQ4DtdLKa6lJ",
        "colab_type": "code",
        "colab": {}
      },
      "source": [
        "!unrar x images.rar >/dev/null\n",
        "!rm images.rar"
      ],
      "execution_count": 0,
      "outputs": []
    },
    {
      "cell_type": "markdown",
      "metadata": {
        "id": "I2yB2EA66jNa",
        "colab_type": "text"
      },
      "source": [
        "**First 10 Images**"
      ]
    },
    {
      "cell_type": "code",
      "metadata": {
        "id": "cgVfyj-yeSnk",
        "colab_type": "code",
        "outputId": "5b94f979-7020-4773-cecd-924fb8e73d70",
        "colab": {
          "base_uri": "https://localhost:8080/",
          "height": 187
        }
      },
      "source": [
        "!ls -l whole\\ images | head"
      ],
      "execution_count": 7,
      "outputs": [
        {
          "output_type": "stream",
          "text": [
            "total 1889792\n",
            "-rw-r--r-- 1 root root 176099 Oct 30  2016 AbdA_00001_m_31_i_fr_nc_no_2016_2_e0_Gn_h.jpg\n",
            "-rw-r--r-- 1 root root  28743 Oct  2  2016 AbdA_00001_m_31_i_fr_nc_no_2016_2_e0_nl_o.jpg\n",
            "-rw-r--r-- 1 root root  43536 Oct  5  2016 AbdA_00001_m_31_i_fr_nc_no_2016_2_e0_Ps_h.jpg\n",
            "-rw-r--r-- 1 root root  28848 Dec 10  2016 AbdA_00001_m_31_i_fr_nc_no_2016_2_em_nl_e.jpg\n",
            "-rw-r--r-- 1 root root  28806 Dec 10  2016 AbdA_00001_m_31_i_fr_nc_no_2016_2_em_nl_h.jpg\n",
            "-rw-r--r-- 1 root root  28843 Dec 10  2016 AbdA_00001_m_31_i_fr_nc_no_2016_2_em_nl_m.jpg\n",
            "-rw-r--r-- 1 root root  28827 Dec 10  2016 AbdA_00001_m_31_i_fr_nc_no_2016_2_en_nl_e.jpg\n",
            "-rw-r--r-- 1 root root  28790 Dec 10  2016 AbdA_00001_m_31_i_fr_nc_no_2016_2_en_nl_h.jpg\n",
            "-rw-r--r-- 1 root root  28784 Dec 10  2016 AbdA_00001_m_31_i_fr_nc_no_2016_2_en_nl_m.jpg\n"
          ],
          "name": "stdout"
        }
      ]
    },
    {
      "cell_type": "markdown",
      "metadata": {
        "id": "Ft0CSlYa6-Yw",
        "colab_type": "text"
      },
      "source": [
        "### Converting Image Set To Numpy Array"
      ]
    },
    {
      "cell_type": "markdown",
      "metadata": {
        "id": "Pnwpo5bv7Rhw",
        "colab_type": "text"
      },
      "source": [
        "**Image Size**"
      ]
    },
    {
      "cell_type": "code",
      "metadata": {
        "id": "6YVOB-QBqcq_",
        "colab_type": "code",
        "colab": {}
      },
      "source": [
        "IMAGE_SIZE = 120"
      ],
      "execution_count": 0,
      "outputs": []
    },
    {
      "cell_type": "markdown",
      "metadata": {
        "id": "4vJt5Q8l7UWv",
        "colab_type": "text"
      },
      "source": [
        "\n",
        "\n",
        "1.   Initializing Array\n",
        "2.   Opening folder\n",
        "3.   Iterating throw images\n",
        "  *   Resizing image\n",
        "  *   Normalizing image\n",
        "  *   Adding Batch Dimension\n",
        "  *   Converting to float32 type\n",
        "  *   Adding Image To Array\n",
        "4.   Converting Array To Numpy Array\n",
        "\n",
        "\n"
      ]
    },
    {
      "cell_type": "code",
      "metadata": {
        "id": "-8F746S6kfbB",
        "colab_type": "code",
        "colab": {}
      },
      "source": [
        "X = []\n",
        "folder = glob.glob('whole images/*.jpg')\n",
        "for i,file in enumerate(folder):\n",
        "  if i == 100: break\n",
        "  with open(file,'rb') as fl:\n",
        "    img = Image.open(fl)\n",
        "    img = img.resize((IMAGE_SIZE,IMAGE_SIZE),Image.ANTIALIAS)\n",
        "    img = np.array(img)/255\n",
        "    img = np.expand_dims(img,0)\n",
        "    img = img.astype('float32')\n",
        "    X.append(img)\n",
        "X = np.array(X)"
      ],
      "execution_count": 0,
      "outputs": []
    },
    {
      "cell_type": "markdown",
      "metadata": {
        "id": "rZ8DOVBW8aRY",
        "colab_type": "text"
      },
      "source": [
        "## Defining Models"
      ]
    },
    {
      "cell_type": "markdown",
      "metadata": {
        "id": "CWvVbLsd8log",
        "colab_type": "text"
      },
      "source": [
        "### Defining Generator Model"
      ]
    },
    {
      "cell_type": "code",
      "metadata": {
        "id": "S5q6Y_TmsKPx",
        "colab_type": "code",
        "colab": {}
      },
      "source": [
        "def generator_model():\n",
        "  c4, c8, c16, c32, c64 = 512, 256, 128, 64, 32\n",
        "  s4 = int(IMAGE_SIZE/4)\n",
        "  model = models.Sequential()\n",
        "  \n",
        "  model.add(layers.Dense(s4*s4*c4,use_bias=False,input_shape=(IMAGE_SIZE,)))\n",
        "  model.add(layers.BatchNormalization())\n",
        "  model.add(layers.LeakyReLU())\n",
        "  \n",
        "  model.add(layers.Reshape((s4,s4,c4)))\n",
        "  \n",
        "  model.add(layers.Conv2DTranspose(c8,(5,5),strides=(1,1),padding='same',use_bias=False))\n",
        "  model.add(layers.BatchNormalization())\n",
        "  model.add(layers.LeakyReLU())\n",
        "  \n",
        "  model.add(layers.Conv2DTranspose(c16,(5,5),strides=(2,2),padding='same',use_bias=False))\n",
        "  model.add(layers.BatchNormalization())\n",
        "  model.add(layers.LeakyReLU())\n",
        "  \n",
        "  model.add(layers.Conv2DTranspose(c32,(5,5),strides=(1,1),padding='same',use_bias=False))\n",
        "  model.add(layers.BatchNormalization())\n",
        "  model.add(layers.LeakyReLU())\n",
        "  \n",
        "  model.add(layers.Conv2DTranspose(c64,(5,5),strides=(1,1),padding='same',use_bias=False))\n",
        "  model.add(layers.BatchNormalization())\n",
        "  model.add(layers.LeakyReLU())\n",
        "  \n",
        "  model.add(layers.Conv2DTranspose(3, (5, 5), strides=(2, 2), padding='same', use_bias=False, activation='tanh'))\n",
        "  return model"
      ],
      "execution_count": 0,
      "outputs": []
    },
    {
      "cell_type": "markdown",
      "metadata": {
        "id": "Tmy83mxm8vOX",
        "colab_type": "text"
      },
      "source": [
        "**Testing generator model on random input**"
      ]
    },
    {
      "cell_type": "code",
      "metadata": {
        "id": "4RQwEvqavxvg",
        "colab_type": "code",
        "outputId": "7d4fbe6d-13cb-414e-e6c9-89a7c12e34df",
        "colab": {
          "base_uri": "https://localhost:8080/",
          "height": 323
        }
      },
      "source": [
        "generator = generator_model()\n",
        "noise = random.normal([1,IMAGE_SIZE])\n",
        "img = generator(noise,training=False)\n",
        "plt.imshow(img[0])"
      ],
      "execution_count": 8,
      "outputs": [
        {
          "output_type": "stream",
          "text": [
            "W0518 18:40:11.709606 139698542983040 image.py:648] Clipping input data to the valid range for imshow with RGB data ([0..1] for floats or [0..255] for integers).\n"
          ],
          "name": "stderr"
        },
        {
          "output_type": "execute_result",
          "data": {
            "text/plain": [
              "<matplotlib.image.AxesImage at 0x7f0d604566d8>"
            ]
          },
          "metadata": {
            "tags": []
          },
          "execution_count": 8
        },
        {
          "output_type": "display_data",
          "data": {
            "image/png": "[encoded data removed]",
            "text/plain": [
              "<Figure size 432x288 with 1 Axes>"
            ]
          },
          "metadata": {
            "tags": []
          }
        }
      ]
    },
    {
      "cell_type": "markdown",
      "metadata": {
        "id": "Zt_l5qkX87Ur",
        "colab_type": "text"
      },
      "source": [
        "### Defining Descriminator Model"
      ]
    },
    {
      "cell_type": "code",
      "metadata": {
        "id": "1-7PaE6VClxG",
        "colab_type": "code",
        "colab": {}
      },
      "source": [
        "def discriminator_model():\n",
        "  c2, c4, c8, c16 = 64, 128, 256, 512\n",
        "  model = models.Sequential()\n",
        "  \n",
        "  model.add(layers.Conv2D(c2,(5,5),strides=(2,2),padding='same',input_shape=(IMAGE_SIZE,IMAGE_SIZE,3),kernel_initializer=initializers.TruncatedNormal(stddev=0.02)))\n",
        "  model.add(layers.LeakyReLU())\n",
        "  \n",
        "  model.add(layers.Conv2D(c4,(5,5),strides=(2,2),padding='same',kernel_initializer=initializers.TruncatedNormal(stddev=0.02)))\n",
        "  model.add(layers.LeakyReLU())\n",
        "  \n",
        "  model.add(layers.Conv2D(c8,(5,5),strides=(2,2),padding='same',kernel_initializer=initializers.TruncatedNormal(stddev=0.02)))\n",
        "  model.add(layers.LeakyReLU())\n",
        "  \n",
        "  model.add(layers.Conv2D(c16,(5,5),strides=(2,2),padding='same',kernel_initializer=initializers.TruncatedNormal(stddev=0.02)))\n",
        "  model.add(layers.LeakyReLU())\n",
        "  \n",
        "  model.add(layers.Flatten())\n",
        "  model.add(layers.Dense(1))\n",
        "  return model"
      ],
      "execution_count": 0,
      "outputs": []
    },
    {
      "cell_type": "markdown",
      "metadata": {
        "id": "31Dyj0A59CZf",
        "colab_type": "text"
      },
      "source": [
        "**Testing discriminator model on the generated random image**"
      ]
    },
    {
      "cell_type": "code",
      "metadata": {
        "id": "KSsZ5LghEDQ5",
        "colab_type": "code",
        "outputId": "8c569b08-d7eb-44df-c05c-401183945323",
        "colab": {
          "base_uri": "https://localhost:8080/",
          "height": 34
        }
      },
      "source": [
        "discriminator = discriminator_model()\n",
        "decision = discriminator(img)\n",
        "decision "
      ],
      "execution_count": 10,
      "outputs": [
        {
          "output_type": "execute_result",
          "data": {
            "text/plain": [
              "<tf.Tensor: id=2102, shape=(1, 1), dtype=float32, numpy=array([[-5.5666893e-05]], dtype=float32)>"
            ]
          },
          "metadata": {
            "tags": []
          },
          "execution_count": 10
        }
      ]
    },
    {
      "cell_type": "markdown",
      "metadata": {
        "id": "bkUXS7a39Te_",
        "colab_type": "text"
      },
      "source": [
        "## Defining Loss Functions"
      ]
    },
    {
      "cell_type": "markdown",
      "metadata": {
        "id": "Tuxc0DNk9hwv",
        "colab_type": "text"
      },
      "source": [
        "\n",
        "**Binary Cross-Entropy**![Binary Cross entropy](https://cdn-images-1.medium.com/max/800/1*rdBw0E-My8Gu3f_BOB6GMA.png)"
      ]
    },
    {
      "cell_type": "code",
      "metadata": {
        "id": "HT2_UbIqI7pj",
        "colab_type": "code",
        "colab": {}
      },
      "source": [
        "cross_entropy = losses.BinaryCrossentropy()"
      ],
      "execution_count": 0,
      "outputs": []
    },
    {
      "cell_type": "markdown",
      "metadata": {
        "id": "fK_-pNwr-JsP",
        "colab_type": "text"
      },
      "source": [
        "**Descriminator and generator loss functions**"
      ]
    },
    {
      "cell_type": "code",
      "metadata": {
        "id": "64bjyEHGJ0L1",
        "colab_type": "code",
        "colab": {}
      },
      "source": [
        "def discriminator_loss(real_output,fake_output):\n",
        "  real_loss = cross_entropy(tf.ones_like(real_output), real_output)\n",
        "  fake_loss = cross_entropy(tf.zeros_like(fake_output), fake_output)\n",
        "  total_loss = real_loss + fake_loss\n",
        "  return total_loss\n",
        "def generator_loss(fake_output):\n",
        "    return cross_entropy(tf.ones_like(fake_output), fake_output)"
      ],
      "execution_count": 0,
      "outputs": []
    },
    {
      "cell_type": "markdown",
      "metadata": {
        "id": "wbz0X_uj_N35",
        "colab_type": "text"
      },
      "source": [
        "## Defining Optimizers"
      ]
    },
    {
      "cell_type": "markdown",
      "metadata": {
        "id": "QJc1RKHL_ZNr",
        "colab_type": "text"
      },
      "source": [
        "**RMSprop optimizer**"
      ]
    },
    {
      "cell_type": "code",
      "metadata": {
        "id": "3PVYPFoPKeP1",
        "colab_type": "code",
        "colab": {}
      },
      "source": [
        "generator_optimizer = optimizers.RMSprop(2e-4)\n",
        "discriminator_optimizer = optimizers.RMSprop(2e-4)"
      ],
      "execution_count": 0,
      "outputs": []
    },
    {
      "cell_type": "markdown",
      "metadata": {
        "id": "2m8la_up_dCx",
        "colab_type": "text"
      },
      "source": [
        "## Defining Hyperparameters"
      ]
    },
    {
      "cell_type": "code",
      "metadata": {
        "id": "1HpU3V_1KnMS",
        "colab_type": "code",
        "colab": {}
      },
      "source": [
        "EPOCHS = 50000\n",
        "BATCH_SIZE = 50\n",
        "NOISE_DIM = IMAGE_SIZE\n",
        "NUMBER_OF_EXAMPLES_TO_GENERATE = 16\n",
        "seed = random.normal([NUMBER_OF_EXAMPLES_TO_GENERATE,NOISE_DIM])\n",
        "noise = tf.random.normal([BATCH_SIZE, NOISE_DIM])"
      ],
      "execution_count": 0,
      "outputs": []
    },
    {
      "cell_type": "markdown",
      "metadata": {
        "id": "f6kQhEnD_nTg",
        "colab_type": "text"
      },
      "source": [
        "## Configuring Checkpoints"
      ]
    },
    {
      "cell_type": "markdown",
      "metadata": {
        "id": "FV1dfInM_tuo",
        "colab_type": "text"
      },
      "source": [
        "Configurung checkpoints for restoring in case of training task is interrupted."
      ]
    },
    {
      "cell_type": "code",
      "metadata": {
        "id": "aH_kJlnVRJWJ",
        "colab_type": "code",
        "colab": {}
      },
      "source": [
        "checkpoint_dir = './checkpoints'\n",
        "checkpoint_prefix = os.path.join(checkpoint_dir,'cpkt')\n",
        "checkpoint = tf.train.Checkpoint(generator_optimizer=generator_optimizer,discriminator_optimizer=discriminator_optimizer,\n",
        "                                generator=generator,\n",
        "                                discriminator=discriminator)"
      ],
      "execution_count": 0,
      "outputs": []
    },
    {
      "cell_type": "markdown",
      "metadata": {
        "id": "Nv2pLPYh_-lw",
        "colab_type": "text"
      },
      "source": [
        "## Defining traning step"
      ]
    },
    {
      "cell_type": "code",
      "metadata": {
        "id": "f_Kf_LwlLGal",
        "colab_type": "code",
        "colab": {}
      },
      "source": [
        "@tf.function\n",
        "def train_step(images):\n",
        "\n",
        "  with tf.GradientTape() as gen_tape, tf.GradientTape() as disc_tape:\n",
        "    generated_images = generator(noise, training=True)\n",
        "\n",
        "    real_output = discriminator(images, training=True)\n",
        "    fake_output = discriminator(generated_images, training=True)\n",
        "\n",
        "    gen_loss = generator_loss(fake_output)\n",
        "    disc_loss = discriminator_loss(real_output, fake_output)\n",
        "\n",
        "    gradients_of_generator = gen_tape.gradient(gen_loss, generator.trainable_variables)\n",
        "    gradients_of_discriminator = disc_tape.gradient(disc_loss, discriminator.trainable_variables)\n",
        "\n",
        "    generator_optimizer.apply_gradients(zip(gradients_of_generator, generator.trainable_variables))\n",
        "    discriminator_optimizer.apply_gradients(zip(gradients_of_discriminator, discriminator.trainable_variables))"
      ],
      "execution_count": 0,
      "outputs": []
    },
    {
      "cell_type": "markdown",
      "metadata": {
        "id": "IAl-AJnlAJSo",
        "colab_type": "text"
      },
      "source": [
        "**function for generating image every 10 epochs**"
      ]
    },
    {
      "cell_type": "code",
      "metadata": {
        "id": "TTw9oExCStQ5",
        "colab_type": "code",
        "colab": {}
      },
      "source": [
        "def generate_image(model,test_input):\n",
        "  images = model(test_input,training=False)\n",
        "  fig = plt.figure(figsize=(4,4))\n",
        "  for i in range(NUMBER_OF_EXAMPLES_TO_GENERATE):\n",
        "    plt.subplot(4,4,i+1)\n",
        "    plt.imshow(images[0])\n",
        "    plt.axis('off')\n",
        "  plt.show()"
      ],
      "execution_count": 0,
      "outputs": []
    },
    {
      "cell_type": "markdown",
      "metadata": {
        "id": "VY9tRibzAR0r",
        "colab_type": "text"
      },
      "source": [
        "## Training Model"
      ]
    },
    {
      "cell_type": "code",
      "metadata": {
        "id": "Vnzfq4PXP6Un",
        "colab_type": "code",
        "outputId": "0222b94d-45d8-4da1-dfb8-e75cf666d49f",
        "colab": {
          "base_uri": "https://localhost:8080/",
          "height": 578
        }
      },
      "source": [
        "for epoch in range(EPOCHS):\n",
        "  print(\"epoch n*%i\"%(epoch+1))\n",
        "  for i,image in enumerate(X):\n",
        "    train_step(image)\n",
        "  display.clear_output(wait=True)\n",
        "  generate_image(generator,seed)  \n",
        "  if(epoch +1) % 10 == 0:\n",
        "    checkpoint.save(file_prefix=checkpoint_prefix)    \n",
        "display.clear_output(wait=True)\n",
        "generate_image(generator,seed)"
      ],
      "execution_count": 0,
      "outputs": [
        {
          "output_type": "stream",
          "text": [
            "W0518 20:53:20.209544 139698542983040 image.py:648] Clipping input data to the valid range for imshow with RGB data ([0..1] for floats or [0..255] for integers).\n",
            "W0518 20:53:20.230343 139698542983040 image.py:648] Clipping input data to the valid range for imshow with RGB data ([0..1] for floats or [0..255] for integers).\n",
            "W0518 20:53:20.250168 139698542983040 image.py:648] Clipping input data to the valid range for imshow with RGB data ([0..1] for floats or [0..255] for integers).\n",
            "W0518 20:53:20.270199 139698542983040 image.py:648] Clipping input data to the valid range for imshow with RGB data ([0..1] for floats or [0..255] for integers).\n",
            "W0518 20:53:20.291313 139698542983040 image.py:648] Clipping input data to the valid range for imshow with RGB data ([0..1] for floats or [0..255] for integers).\n",
            "W0518 20:53:20.311476 139698542983040 image.py:648] Clipping input data to the valid range for imshow with RGB data ([0..1] for floats or [0..255] for integers).\n",
            "W0518 20:53:20.335351 139698542983040 image.py:648] Clipping input data to the valid range for imshow with RGB data ([0..1] for floats or [0..255] for integers).\n",
            "W0518 20:53:20.358160 139698542983040 image.py:648] Clipping input data to the valid range for imshow with RGB data ([0..1] for floats or [0..255] for integers).\n",
            "W0518 20:53:20.377054 139698542983040 image.py:648] Clipping input data to the valid range for imshow with RGB data ([0..1] for floats or [0..255] for integers).\n",
            "W0518 20:53:20.397518 139698542983040 image.py:648] Clipping input data to the valid range for imshow with RGB data ([0..1] for floats or [0..255] for integers).\n",
            "W0518 20:53:20.420400 139698542983040 image.py:648] Clipping input data to the valid range for imshow with RGB data ([0..1] for floats or [0..255] for integers).\n",
            "W0518 20:53:20.442516 139698542983040 image.py:648] Clipping input data to the valid range for imshow with RGB data ([0..1] for floats or [0..255] for integers).\n",
            "W0518 20:53:20.462548 139698542983040 image.py:648] Clipping input data to the valid range for imshow with RGB data ([0..1] for floats or [0..255] for integers).\n",
            "W0518 20:53:20.483630 139698542983040 image.py:648] Clipping input data to the valid range for imshow with RGB data ([0..1] for floats or [0..255] for integers).\n",
            "W0518 20:53:20.503597 139698542983040 image.py:648] Clipping input data to the valid range for imshow with RGB data ([0..1] for floats or [0..255] for integers).\n",
            "W0518 20:53:20.522600 139698542983040 image.py:648] Clipping input data to the valid range for imshow with RGB data ([0..1] for floats or [0..255] for integers).\n"
          ],
          "name": "stderr"
        },
        {
          "output_type": "display_data",
          "data": {
            "image/png": "[encoded data removed]",
            "text/plain": [
              "<Figure size 288x288 with 16 Axes>"
            ]
          },
          "metadata": {
            "tags": []
          }
        },
        {
          "output_type": "stream",
          "text": [
            "epoch n*125\n"
          ],
          "name": "stdout"
        }
      ]
    }
  ]
}